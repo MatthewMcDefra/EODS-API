{
 "cells": [
  {
   "cell_type": "markdown",
   "metadata": {},
   "source": [
    "# Defra Earth Observation Data Service API"
   ]
  },
  {
   "cell_type": "markdown",
   "metadata": {},
   "source": [
    "# Introduction \n",
    "This notebook has been created to introduce and test the Defra Earth Observation Data Service API.  Follow the three steps below to import libraries and configuration file, apply query parameters to filter available data, and create a parameterised URL using the api/layers endpoint with query parameters for date, geometry and satellite.  "
   ]
  },
  {
   "cell_type": "markdown",
   "metadata": {},
   "source": [
    "## 1) Import libraries and configuration file\n",
    "Here we *import* the libraries required to run this notebook.\n",
    "If there are any errors when running this cell (all cells can be run using *'Shift-Return'*) then check that the libraries were correctly installed through **Conda** or the package manager that you use.\n",
    "\n",
    "Before continuing with this notebook, ensure that the **USERNAME** and **ACCESS_TOKEN** parameters in the _config.py_ file relate to the username to be used for the following commands.\n",
    "\n",
    "Check all other _config.py_ parameters are as you would expect them, especially the URL and GEOM parameters."
   ]
  },
  {
   "cell_type": "code",
   "execution_count": null,
   "metadata": {},
   "outputs": [],
   "source": [
    "# Import general and geospatial data handling libraries\n",
    "import logging\n",
    "import importlib\n",
    "\n",
    "# Import your configuration file\n",
    "import config\n",
    "# configure specific library calls\n",
    "importlib.reload(config)"
   ]
  },
  {
   "cell_type": "markdown",
   "metadata": {},
   "source": [
    "## 2) Configure query parameters\n",
    "The next cell sets a series of query parameters for searching through the data on the system. You can change these and re-run the cell to investigate different scenarios. "
   ]
  },
  {
   "cell_type": "code",
   "execution_count": null,
   "metadata": {},
   "outputs": [],
   "source": [
    "# configure variables\n",
    "DATE_RANGE_START = '2019-02-01'\n",
    "DATE_RANGE_END = '2019-02-28'\n",
    "SATELLITE_ID = 2\n",
    "TITLE = 'S2B'\n",
    "TYPE = 'raster'\n",
    "GEOM = 'POLYGON((-1.6+51.36,0.28+51.36,0.28+51.69,-1.6+51.69,-1.6+51.36))'\n",
    "APPLY_FILTERS = True\n",
    "\n",
    "# Examples of additional geometry filters. Well Known Text (WKT) Format is required.\n",
    "# England-wide footprint\n",
    "#GEOM = \"POLYGON((-3.70583842728179391 55.44991031769518486, -2.13623226289823265 55.44991031769518486, -0.53426308481603968 55.43372881084587078, -0.58280760536398546 54.54374593413353978, -0.63135212591193124 53.65376305742121588, 0.84116499737574024 53.58903703002395247, 2.31368212066341172 53.65376305742121588, 2.3622266412113575 52.76378018070888487, 2.39458965490998743 51.84143429029792571, 2.39458965490998743 50.90290689303765248, 2.3622266412113575 50.07765004372258488, 0.9867985590195758 50.04528703002395673, 0.53371636723875326 49.9967425094760074, -0.82553020810371081 50.04528703002395673, -2.23332130399412243 50.06146853687327081, -3.60874938618590413 50.04528703002395673, -5.42107815330919074 49.9967425094760074, -6.82886924919960148 50.04528703002395673, -5.50198568755576645 50.17473908481847644, -5.40489664645987578 50.87054387933902433, -3.6249308930352182 50.91908839988696656, -3.70583842728179391 55.44991031769518486))\"\n",
    "\n",
    "# SE geom example\n",
    "# GEOM = \"POLYGON((-1.6+51.36,0.28+51.36,0.28+51.69,-1.6+51.69,-1.6+51.36))\"\n",
    "\n",
    "# small London footprint\n",
    "# GEOM = \"POLYGON((-0.09799 51.49697,-0.08799 51.49697,-0.08799 51.48697,-0.09799 51.48697,-0.09799 51.49697))\""
   ]
  },
  {
   "cell_type": "markdown",
   "metadata": {},
   "source": [
    "##  3) Create parameterised URL\n",
    "The following cell creates a parameterised URL using the API 'layers' endpoint and a set of query parameters. Copy the output and paste it into a browser address bar. The resultant page provides an indication of the information returned to this notebook (based on the input parameters) from the server. "
   ]
  },
  {
   "cell_type": "code",
   "execution_count": null,
   "metadata": {},
   "outputs": [],
   "source": [
    "# Initialise the required variables using the details in your config file (config.py)\n",
    "# If the APPLY_FILTERS config option is set to True then construct a URL\n",
    "\n",
    "if APPLY_FILTERS:\n",
    "    the_url = config.URL + ('/api/layers/?username=' + config.USERNAME \n",
    "                            + '&api_key=' + config.ACCESS_TOKEN\n",
    "                            + '&limit=20000&offset=0'\n",
    "                            + '&keywords__slug__in=sentinel-' + str(SATELLITE_ID)\n",
    "                            + '&geometry=' + GEOM\n",
    "                            + '&date__range=' + DATE_RANGE_START + '%2000:00,' + DATE_RANGE_END + '%2023:59'\n",
    "                            + '&title__icontains=' + TITLE\n",
    "                            + '&type__in=' + TYPE\n",
    "                           )\n",
    "# or if the option is not set to True \n",
    "else:\n",
    "    the_url = config.URL + ('/api/base/search/?username=' \n",
    "                            + config.USERNAME + '&api_key=' \n",
    "                            + config.ACCESS_TOKEN + '&limit=20000&offset=0')\n",
    "\n",
    "print(the_url)"
   ]
  },
  {
   "cell_type": "markdown",
   "metadata": {},
   "source": [
    "### Copy and paste the above URL into your browser.  This should return the data selected by your date, geometry and satellite filters.  \n",
    "### Now try altering the filters, generating new URLs and checking the outputs in your browser.  "
   ]
  },
  {
   "cell_type": "markdown",
   "metadata": {},
   "source": [
    "## Thank you for your help with testing the Earth Observation Data Service API."
   ]
  }
 ],
 "metadata": {
  "kernelspec": {
   "display_name": "Python 3",
   "language": "python",
   "name": "python3"
  },
  "language_info": {
   "codemirror_mode": {
    "name": "ipython",
    "version": 3
   },
   "file_extension": ".py",
   "mimetype": "text/x-python",
   "name": "python",
   "nbconvert_exporter": "python",
   "pygments_lexer": "ipython3",
   "version": "3.7.3"
  }
 },
 "nbformat": 4,
 "nbformat_minor": 4
}
