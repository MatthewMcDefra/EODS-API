{
 "cells": [
  {
   "cell_type": "code",
   "execution_count": null,
   "metadata": {},
   "outputs": [],
   "source": [
    "import eodslib\n",
    "from datetime import datetime\n",
    "from pathlib import Path\n",
    "from osgeo import gdal"
   ]
  },
  {
   "cell_type": "code",
   "execution_count": null,
   "metadata": {},
   "outputs": [],
   "source": [
    "# user connection settings\n",
    "conn = {\n",
    "    'domain': 'https://earthobs.defra.gov.uk',\n",
    "    'username': '<insert-user-name>',\n",
    "    'access_token': '<insert-user-token>',\n",
    "    }"
   ]
  },
  {
   "cell_type": "code",
   "execution_count": null,
   "metadata": {},
   "outputs": [],
   "source": [
    "# user defined keyword arguments (kwargs)\n",
    "output_dir = Path('/some/dir')\n",
    "cat_search_geom_wgs84wkt_query = 'POLYGON((-1.64 53.38, -1.64 52.98, -1.17 52.98, -1.17 53.38, -1.64 53.38))'"
   ]
  },
  {
   "cell_type": "code",
   "execution_count": null,
   "metadata": {},
   "outputs": [],
   "source": [
    "# example of keyword argument (kwarg) expansion, the input needs to be a python dictionary\n",
    "\n",
    "eods_params = {\n",
    "    'output_dir':output_dir,\n",
    "    'title':'ORB137',\n",
    "    'cloud_min':0,\n",
    "    'cloud_max':15,\n",
    "    'sat_id':2,\n",
    "    'geom':cat_search_geom_wgs84wkt_query,\n",
    "    'date_start':'2020-01-01',\n",
    "    'date_end':'2020-09-01',\n",
    "    'find_least_cloud':True,\n",
    "    'ignore_split_granules':True    \n",
    "    }\n",
    "\n",
    "list_of_layers, df = eodslib.query_catalog(conn, **eods_params)"
   ]
  },
  {
   "cell_type": "code",
   "execution_count": null,
   "metadata": {},
   "outputs": [],
   "source": [
    "# user can override 'wps job' config\n",
    "\n",
    "config_wpsprocess = []\n",
    "\n",
    "for lyr in list_of_layers:\n",
    "       \n",
    "    config_wpsprocess.append({\n",
    "        'template_xml':'gsdownload_template.xml',\n",
    "        'xml_config':{\n",
    "             'template_layer_name':lyr,\n",
    "             'template_outputformat':'image/tiff',\n",
    "             'template_mimetype':'application/zip'},\n",
    "        'dl_bool':True\n",
    "    })\n",
    "\n",
    "config_wpsprocess"
   ]
  },
  {
   "cell_type": "code",
   "execution_count": null,
   "metadata": {
    "scrolled": false
   },
   "outputs": [],
   "source": [
    "# run wps process with updated list of layers\n",
    "list_download_paths = eodslib.run_wps(config_general, config_wpsprocess, output_dir=output_dir)"
   ]
  },
  {
   "cell_type": "code",
   "execution_count": null,
   "metadata": {},
   "outputs": [],
   "source": [
    "# POST-PROCESSING EXAMPLE\n",
    "#        convert gsdownload s2 output to an \"optimised\" GeoTIFF\n",
    "#        build a gdal virtual file (VRT) (a mosaic)\n",
    "\n",
    "# set gdal config\n",
    "translateoptions = gdal.TranslateOptions(gdal.ParseCommandLine(\"-of Gtiff -co COMPRESS=LZW  -co BIGTIFF=YES -co TILED=YES -co BLOCKXSIZE=512 -co BLOCKYSIZE=512\"))\n",
    "gdal.SetConfigOption(\"COMPRESS_OVERVIEW\", \"DEFLATE\")\n",
    "\n",
    "outfile_list = []\n",
    "\n",
    "# loop through all S2 output in output directory\n",
    "for input_file in output_dir.glob('**/*osgb_vmsk_sharp_rad_srefdem_stdsref.tif'):\n",
    "    \n",
    "    print('\\n' + datetime.utcnow().isoformat() + ' processing input :: ' + str(input_file))\n",
    "    \n",
    "    output_file = input_file.parent / str(input_file.stem + '-cog.tif')\n",
    "    outfile_list.append(str(output_file))\n",
    "    \n",
    "    # run downloaded file via gdal translate\n",
    "    gdal.Translate(str(output_file), str(input_file), options=translateoptions)\n",
    "    \n",
    "    # add overviews to translated file\n",
    "    Image = gdal.Open(str(output_file), 1)    \n",
    "    Image.BuildOverviews(\"NEAREST\", [2,4,8,16,32,64, 128, 256, 512])\n",
    "    \n",
    "    print('\\n' + datetime.utcnow().isoformat() + ' output here :: ' + str(output_file))\n",
    "    \n",
    "# write out vrt input file    \n",
    "with open(output_dir / 'vrt-inputs.txt', 'w') as outtxt:\n",
    "    for ii in outfile_list:\n",
    "        outtxt.write(ii + '\\n')\n",
    "\n",
    "# run gdal build vrt from commandline\n",
    "! gdalbuildvrt -resolution average -r nearest -input_file_list {str(output_dir / 'vrt-inputs.txt')} {str(output_dir / 'mosaic.vrt')}"
   ]
  },
  {
   "cell_type": "code",
   "execution_count": null,
   "metadata": {},
   "outputs": [],
   "source": [
    "print('### Script Finished')"
   ]
  }
 ],
 "metadata": {
  "kernelspec": {
   "display_name": "Python 3",
   "language": "python",
   "name": "python3"
  },
  "language_info": {
   "codemirror_mode": {
    "name": "ipython",
    "version": 3
   },
   "file_extension": ".py",
   "mimetype": "text/x-python",
   "name": "python",
   "nbconvert_exporter": "python",
   "pygments_lexer": "ipython3",
   "version": "3.8.5"
  }
 },
 "nbformat": 4,
 "nbformat_minor": 4
}
