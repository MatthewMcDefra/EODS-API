{
 "cells": [
  {
   "cell_type": "code",
   "execution_count": null,
   "metadata": {},
   "outputs": [],
   "source": [
    "import eodslib\n",
    "from datetime import datetime\n",
    "from pathlib import Path"
   ]
  },
  {
   "cell_type": "code",
   "execution_count": null,
   "metadata": {},
   "outputs": [],
   "source": [
    "# user connection settings\n",
    "conn = {\n",
    "    'domain': 'https://earthobs.defra.gov.uk',\n",
    "    'username': '<insert-user-name>',\n",
    "    'access_token': '<insert-user-token>',\n",
    "    }"
   ]
  },
  {
   "cell_type": "code",
   "execution_count": null,
   "metadata": {},
   "outputs": [],
   "source": [
    "# user defined keyword arguments (kwargs)\n",
    "output_dir = Path('/some/dir')\n",
    "wgs_select_box = 'Polygon((-1.68 52.47, -1.68 52.08, -1.12 52.08, -1.12 52.47, -1.68 52.47))'"
   ]
  },
  {
   "cell_type": "markdown",
   "metadata": {},
   "source": [
    "### EODS catalogue search filter parameters\n",
    "* **optional argument** `start_date` | type `str` | example `2020-01-01` | description: filter results from date, format must be YYYY-MM-DD\n",
    "* **optional argument** `end_date` | type `str` | example `2020-02-01` | description: filter results TO date, format must be YYYY-MM-DD, must specify BOTH start_date and end_date or either\n",
    "* **optional argument** `sat_id`| type `int` | example `1` or `2` | description: filter results for matching Sentinel satellite number, if excluded both satellites will be included.\n",
    "* **optional argument** `type`| type `str` | example `raster` or `vector` | description: filter results on data type, if excluded all layers will be included.\n",
    "* **optional argument** `title`| type `str` | example `T30UVB_ORB137` | description: filter results for matching title string, if excluded all layers will be included.\n",
    "* **optional argument** `cloud_min` | type `int` | example `0-100` | description: filter results S2 results only for granules with cloud cover > min, must be used with  `cloud_max` keyword\n",
    "* **optional argument** `cloud_max` | type `int` | example `0-100` | description: filter results S2 results only for granules with cloud cover < max>, must be used with  `cloud_min` keyword\n",
    "* **optional argument** `geom`| type `str` | example `'Polygon((-2.4 51.9, -2.4 51.6, -1.9 51.6, -1.9 51.9, -2.4 51.9))'` | description: filter results that match the WELL KNOWN TEXT (WKT) format polygon. WKT query string must be in WGS84 lon/lat format coordinate pairs\n",
    "* **optional argument** `limit` | type `int` | example `100` | description: limit the number of records returned by query, if exluded all records from EODS will be returned that match your parameters, if no extra filter parameters are specified, this could return +10,000 records, if excluding, use with care.\n",
    "\n",
    "### Special filter parameters\n",
    "\n",
    "* **optional argument** `ignore_split_granules` | type `Boolan` | example `True` | description: filter out any ard with \"SPLIT\" in the title\n",
    "* **optional argument** `find_least_cloud` | type `Boolan` | example `True` | description: the resulting matching layers will only contain 1 unique S2 Granule reference in the list. This granule will have the lowest cloud value of all matching specific granules\n",
    "\n",
    "### Environment type parameters\n",
    "* **optional argument** `verify` | type `str` | example: `'/home/user/certlist.pem'` | description: use if your organisation uses corporate self signed TLS certificates that need to be used by your conda env.\n",
    "* **optional argument** `output_dir` | type `str` or pathlib object | description: override the default current directory and specify a specific output directory"
   ]
  },
  {
   "cell_type": "code",
   "execution_count": null,
   "metadata": {},
   "outputs": [],
   "source": [
    "# example of a query with a limit returned\n",
    "\n",
    "list_of_layers, df = eodslib.query_catalog(conn, \n",
    "                                            output_dir=output_dir,\n",
    "                                            limit=2,   \n",
    "                                            sat_id=2)"
   ]
  },
  {
   "cell_type": "code",
   "execution_count": null,
   "metadata": {},
   "outputs": [],
   "source": [
    "# example of a complex query \n",
    "# see use of ignore_split_granules parameter\n",
    "# see use of find_least_cloud parameter\n",
    "\n",
    "list_of_layers, df = eodslib.query_catalog(conn, \n",
    "                                            output_dir=output_dir,\n",
    "                                            sat_id=2,\n",
    "                                            start_date='2020-01-01',\n",
    "                                            end_date='2020-07-01',\n",
    "                                            cloud_min=0,\n",
    "                                            cloud_max=20,\n",
    "                                            find_least_cloud=True,\n",
    "                                            ignore_split_granules=True,                                           \n",
    "                                            geom=wgs_select_box,\n",
    "                                          )"
   ]
  },
  {
   "cell_type": "code",
   "execution_count": null,
   "metadata": {},
   "outputs": [],
   "source": [
    "# example of keyword argument (kwarg) expansion, the input needs to be a python dictionary\n",
    "\n",
    "eods_params = {\n",
    "    'output_dir':output_dir,\n",
    "    'start_date':'2020-01-01',\n",
    "    'end_date':'2020-07-01',\n",
    "    'sat_id':2,\n",
    "    'title':'T30',\n",
    "    'cloud_min':0,\n",
    "    'cloud_max':20,\n",
    "    'find_least_cloud':True,\n",
    "    'ignore_split_granules':True\n",
    "    }\n",
    "\n",
    "list_of_layers, df = eodslib.query_catalog(conn, **eods_params)"
   ]
  },
  {
   "cell_type": "code",
   "execution_count": null,
   "metadata": {},
   "outputs": [],
   "source": [
    "# eods search query function call returns a pandas df, useful for further work/querying \n",
    "df"
   ]
  },
  {
   "cell_type": "code",
   "execution_count": null,
   "metadata": {},
   "outputs": [],
   "source": [
    "print('### Script Finished')"
   ]
  }
 ],
 "metadata": {
  "kernelspec": {
   "display_name": "Python 3",
   "language": "python",
   "name": "python3"
  },
  "language_info": {
   "codemirror_mode": {
    "name": "ipython",
    "version": 3
   },
   "file_extension": ".py",
   "mimetype": "text/x-python",
   "name": "python",
   "nbconvert_exporter": "python",
   "pygments_lexer": "ipython3",
   "version": "3.8.5"
  }
 },
 "nbformat": 4,
 "nbformat_minor": 4
}
