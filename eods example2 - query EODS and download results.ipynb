{
 "cells": [
  {
   "cell_type": "code",
   "execution_count": null,
   "metadata": {
    "scrolled": true
   },
   "outputs": [],
   "source": [
    "import eodslib\n",
    "from datetime import datetime\n",
    "from pathlib import Path"
   ]
  },
  {
   "cell_type": "code",
   "execution_count": null,
   "metadata": {
    "scrolled": true
   },
   "outputs": [],
   "source": [
    "# user connection settings\n",
    "conn = {\n",
    "    'domain': 'https://earthobs.defra.gov.uk',\n",
    "    'username': '<insert-user-name>',\n",
    "    'access_token': '<insert-user-token>',\n",
    "    }"
   ]
  },
  {
   "cell_type": "code",
   "execution_count": null,
   "metadata": {
    "scrolled": true
   },
   "outputs": [],
   "source": [
    "# user defined keyword arguments (kwargs)\n",
    "output_dir = Path('/some/directory/')"
   ]
  },
  {
   "cell_type": "code",
   "execution_count": null,
   "metadata": {
    "scrolled": true
   },
   "outputs": [],
   "source": [
    "# example of keyword argument (kwarg) expansion, the input needs to be a python dictionary\n",
    "\n",
    "eods_params = {\n",
    "    'output_dir':output_dir,\n",
    "    'title':'1_19_1',\n",
    "    'type':'raster',\n",
    "    'limit':1,\n",
    "    }\n",
    "\n",
    "list_of_layers, df = eodslib.query_catalog(conn, **eods_params)"
   ]
  },
  {
   "cell_type": "code",
   "execution_count": null,
   "metadata": {
    "scrolled": true
   },
   "outputs": [],
   "source": [
    "config_wpsprocess = []\n",
    "\n",
    "for lyr in list_of_layers:\n",
    "    \n",
    "    config_wpsprocess.append(\n",
    "        {'template_xml':'gsdownload_template.xml',\n",
    "         'xml_config':{\n",
    "             'template_layer_name':lyr,\n",
    "             'template_outputformat':'image/tiff',\n",
    "             'template_mimetype':'application/zip'\n",
    "                 },\n",
    "         'dl_bool':True\n",
    "        })\n",
    "    \n",
    "config_wpsprocess"
   ]
  },
  {
   "cell_type": "code",
   "execution_count": null,
   "metadata": {
    "scrolled": false
   },
   "outputs": [],
   "source": [
    "# run wps process with updated list of layers\n",
    "list_download_paths = eodslib.run_wps(conn, config_wpsprocess, output_dir=output_dir)"
   ]
  },
  {
   "cell_type": "code",
   "execution_count": null,
   "metadata": {
    "scrolled": true
   },
   "outputs": [],
   "source": [
    "print('### Script Finished')"
   ]
  }
 ],
 "metadata": {
  "kernelspec": {
   "display_name": "Python 3",
   "language": "python",
   "name": "python3"
  },
  "language_info": {
   "codemirror_mode": {
    "name": "ipython",
    "version": 3
   },
   "file_extension": ".py",
   "mimetype": "text/x-python",
   "name": "python",
   "nbconvert_exporter": "python",
   "pygments_lexer": "ipython3",
   "version": "3.8.5"
  }
 },
 "nbformat": 4,
 "nbformat_minor": 4
}
