{
 "cells": [
  {
   "cell_type": "code",
   "execution_count": null,
   "metadata": {
    "scrolled": true
   },
   "outputs": [],
   "source": [
    "import eodslib\n",
    "from datetime import datetime\n",
    "from pathlib import Path\n",
    "import rasterio\n",
    "import numpy\n",
    "from rasterio.plot import show\n",
    "from rasterio.plot import show_hist\n",
    "from matplotlib import pyplot"
   ]
  },
  {
   "cell_type": "code",
   "execution_count": null,
   "metadata": {},
   "outputs": [],
   "source": [
    "# user connection settings\n",
    "conn = {\n",
    "    'domain': 'https://earthobs.defra.gov.uk',\n",
    "    'username': '<insert-user-name>',\n",
    "    'access_token': '<insert-user-token>',\n",
    "    }"
   ]
  },
  {
   "cell_type": "code",
   "execution_count": null,
   "metadata": {
    "scrolled": true
   },
   "outputs": [],
   "source": [
    "# user defined keyword arguments (kwargs)\n",
    "output_dir = Path('/some/dir')\n",
    "cat_search_geom_wgs84wkt_query = 'POLYGON((-1.18 50.94, -1.18 50.86, -1.06 50.86, -1.06 50.94, -1.18 50.94))'\n",
    "cutting_geom_osgbwkt = 'POLYGON((455556 114292, 455556 106403, 467913 106403, 467913 114292, 455556 114292))'"
   ]
  },
  {
   "cell_type": "code",
   "execution_count": null,
   "metadata": {},
   "outputs": [],
   "source": [
    "# example of keyword argument (kwarg) expansion, the input needs to be a python dictionary\n",
    "\n",
    "eods_params = {\n",
    "    'output_dir':output_dir,\n",
    "    'start_date':'2020-01-01',\n",
    "    'end_date':'2020-09-01',\n",
    "    'title':'ORB137',\n",
    "    'geom':cat_search_geom_wgs84wkt_query,\n",
    "    'cloud_min':0,\n",
    "    'cloud_max':20,\n",
    "    'sat_id':2,\n",
    "    }\n",
    "\n",
    "list_of_layers, df = eodslib.query_catalog(conn, **eods_params)"
   ]
  },
  {
   "cell_type": "code",
   "execution_count": null,
   "metadata": {
    "scrolled": false
   },
   "outputs": [],
   "source": [
    "config_wpsprocess = []\n",
    "\n",
    "for lyr in list_of_layers:\n",
    "    \n",
    "    wkt = df.loc[(df['alternate'] == lyr)]['csw_wkt_geometry'].item()\n",
    "    lower_left, upper_right = eodslib.get_bbox_corners_from_wkt(wkt,27700)\n",
    "\n",
    "    config_wpsprocess.append(\n",
    "        {'template_xml':'rascropcoverage_template.xml',\n",
    "         'xml_config':{\n",
    "            'template_layer_name':lyr,\n",
    "            'template_mimetype':'image/tiff',\n",
    "            'template_ll':str(lower_left.x) + ' ' + str(lower_left.y),\n",
    "            'template_ur':str(upper_right.x) + ' ' + str(upper_right.y),\n",
    "            'template_clip_geom':cutting_geom_osgbwkt\n",
    "            },\n",
    "         'dl_bool':True\n",
    "        })\n",
    "\n",
    "config_wpsprocess"
   ]
  },
  {
   "cell_type": "code",
   "execution_count": null,
   "metadata": {
    "scrolled": true
   },
   "outputs": [],
   "source": [
    "# run wps process with updated list of layers\n",
    "list_download_paths = eodslib.run_wps(conn, config_wpsprocess, output_dir=output_dir)"
   ]
  },
  {
   "cell_type": "code",
   "execution_count": null,
   "metadata": {
    "scrolled": true
   },
   "outputs": [],
   "source": [
    "# override path list for specific S2 ARD outputs\n",
    "list_download_paths = [ii for ii in output_dir.glob('**/*osgb_vmsk_sharp_rad_srefdem_stdsref.tif')];list_download_paths"
   ]
  },
  {
   "cell_type": "code",
   "execution_count": null,
   "metadata": {
    "scrolled": false
   },
   "outputs": [],
   "source": [
    "# POST-PROCESSING EXAMPLE\n",
    "#        calc ndvi from s2 10-band granule\n",
    "#        make nice 2-panel plot of chorolopeth and histogram of values\n",
    "\n",
    "def make_2_panel_raster_plot(ard_name, ard_data, ndvi_hist_bins):\n",
    "    \"\"\"\n",
    "    Add a two-panel plot to the fig for NDVI map and histogram\n",
    "    \"\"\"\n",
    "    \n",
    "    fig, (ax1, ax2) = pyplot.subplots(1,2, figsize=(21,7))\n",
    "    the_map = show((ard_data, 1), ax=ax1, transform=ard_data.transform, cmap='BrBG', title=ard_name + '-NDVI-MAP',clim=(0,1));    \n",
    "    \n",
    "    show_hist(ard_data, ax=ax2, bins=ndvi_hist_bins, lw=0.0, stacked=False,histtype='stepfilled', title=ard_name + '-NDVI-HIST')\n",
    "    ax2.set_ylim([0,500000])\n",
    "    ax2.legend(['0.05 binned NDVI'])\n",
    "    ax2.set_ylabel('NDVI')\n",
    "     \n",
    "def check_for_nodata_in_aoi(ard_data, ifile):\n",
    "    \"\"\"\n",
    "    Check if NDVI band has an array of ZERO values (meaning the Area of Interest intersets a ZERO area\n",
    "    \"\"\"\n",
    "       \n",
    "    # if max of the array = 0, then it's all \"no data\"\n",
    "    if numpy.nansum(ard_data.read(1)) == 0:\n",
    "        print(' ### WARNING This file contains NO data :: ' + str(ifile))\n",
    "        return False\n",
    "    else:\n",
    "        return True\n",
    "      \n",
    "def calc_ndvi(input_tif, output_dir=Path.cwd()):\n",
    "    \"\"\"\n",
    "    calc ndvi from input 10-band S2 ARD\n",
    "    \"\"\"\n",
    "\n",
    "    path_ndvi = output_dir / str(str(input_tif.stem) + '-ndvi.tif')\n",
    "\n",
    "    try:\n",
    "        with rasterio.open(input_tif) as src:\n",
    "            band_red = src.read(3)\n",
    "            band_nir = src.read(7)\n",
    "            profile = src.profile\n",
    "\n",
    "        # Allow division by zero\n",
    "        numpy.seterr(divide='ignore', invalid='ignore')\n",
    "\n",
    "        # calc ndvi\n",
    "        ndvi = (band_nir.astype(float) - band_red.astype(float)) / (band_nir + band_red)\n",
    "\n",
    "        # update rasterio obj metadata\n",
    "        profile.update(\n",
    "            dtype=rasterio.float32,\n",
    "            count = 1,\n",
    "            compress='lzw')\n",
    "\n",
    "        with rasterio.open(path_ndvi, 'w', **profile) as dst:\n",
    "            dst.write(ndvi.astype(rasterio.float32), 1)\n",
    "        \n",
    "        return path_ndvi\n",
    "        \n",
    "    except Exception as err:\n",
    "        print(err)\n",
    "        return\n",
    "   \n",
    "    \n",
    "def main():    \n",
    "        \n",
    "    if list_download_paths is not None:\n",
    "\n",
    "        # set ndvi histogram bins\n",
    "        ndvi_hist_bins = numpy.arange(0, 1, 0.05)\n",
    "        \n",
    "        # for each ard tiff\n",
    "        for item in list_download_paths:\n",
    "            \n",
    "            # calc ndvi \n",
    "            path_ndvi = calc_ndvi(item, output_dir=output_dir)\n",
    "            \n",
    "            # set plot title and open rasterio item\n",
    "            ard_name = str(path_ndvi.stem).split('_utm30n')[0]\n",
    "            ard_data = rasterio.open(path_ndvi)\n",
    "\n",
    "            # check to see if the ndvi is NOT a \"zero array\"\n",
    "            check_bool = check_for_nodata_in_aoi(ard_data, path_ndvi)\n",
    "            if check_bool:\n",
    "\n",
    "                # call plot function\n",
    "                make_2_panel_raster_plot(ard_name, ard_data, ndvi_hist_bins)\n",
    "                pyplot.show()\n",
    "                \n",
    "main()"
   ]
  },
  {
   "cell_type": "code",
   "execution_count": null,
   "metadata": {
    "scrolled": false
   },
   "outputs": [],
   "source": [
    "print('### Script Finished')"
   ]
  }
 ],
 "metadata": {
  "kernelspec": {
   "display_name": "Python 3",
   "language": "python",
   "name": "python3"
  },
  "language_info": {
   "codemirror_mode": {
    "name": "ipython",
    "version": 3
   },
   "file_extension": ".py",
   "mimetype": "text/x-python",
   "name": "python",
   "nbconvert_exporter": "python",
   "pygments_lexer": "ipython3",
   "version": "3.8.5"
  }
 },
 "nbformat": 4,
 "nbformat_minor": 4
}
